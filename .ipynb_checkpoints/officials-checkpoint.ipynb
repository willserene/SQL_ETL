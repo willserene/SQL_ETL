{
 "cells": [
  {
   "cell_type": "code",
   "execution_count": 10,
   "metadata": {},
   "outputs": [],
   "source": [
    "import pandas as pd\n",
    "from sqlalchemy import create_engine\n",
    "import sqlalchemy.dialects.sqlite\n"
   ]
  },
  {
   "cell_type": "markdown",
   "metadata": {},
   "source": [
    "### Load CSVs to DataFrame"
   ]
  },
  {
   "cell_type": "code",
   "execution_count": 2,
   "metadata": {},
   "outputs": [
    {
     "data": {
      "text/html": [
       "<div>\n",
       "<style scoped>\n",
       "    .dataframe tbody tr th:only-of-type {\n",
       "        vertical-align: middle;\n",
       "    }\n",
       "\n",
       "    .dataframe tbody tr th {\n",
       "        vertical-align: top;\n",
       "    }\n",
       "\n",
       "    .dataframe thead th {\n",
       "        text-align: right;\n",
       "    }\n",
       "</style>\n",
       "<table border=\"1\" class=\"dataframe\">\n",
       "  <thead>\n",
       "    <tr style=\"text-align: right;\">\n",
       "      <th></th>\n",
       "      <th>game_id</th>\n",
       "      <th>official_name</th>\n",
       "      <th>official_type</th>\n",
       "    </tr>\n",
       "  </thead>\n",
       "  <tbody>\n",
       "    <tr>\n",
       "      <th>0</th>\n",
       "      <td>2016020045</td>\n",
       "      <td>Dan O'Rourke</td>\n",
       "      <td>Referee</td>\n",
       "    </tr>\n",
       "    <tr>\n",
       "      <th>1</th>\n",
       "      <td>2016020045</td>\n",
       "      <td>Trevor Hanson</td>\n",
       "      <td>Referee</td>\n",
       "    </tr>\n",
       "    <tr>\n",
       "      <th>2</th>\n",
       "      <td>2016020045</td>\n",
       "      <td>Scott Driscoll</td>\n",
       "      <td>Linesman</td>\n",
       "    </tr>\n",
       "    <tr>\n",
       "      <th>3</th>\n",
       "      <td>2016020045</td>\n",
       "      <td>Lonnie Cameron</td>\n",
       "      <td>Linesman</td>\n",
       "    </tr>\n",
       "    <tr>\n",
       "      <th>4</th>\n",
       "      <td>2017020812</td>\n",
       "      <td>Justin St. Pierre</td>\n",
       "      <td>Referee</td>\n",
       "    </tr>\n",
       "  </tbody>\n",
       "</table>\n",
       "</div>"
      ],
      "text/plain": [
       "      game_id       official_name official_type\n",
       "0  2016020045        Dan O'Rourke       Referee\n",
       "1  2016020045       Trevor Hanson       Referee\n",
       "2  2016020045      Scott Driscoll      Linesman\n",
       "3  2016020045      Lonnie Cameron      Linesman\n",
       "4  2017020812  Justin St. Pierre        Referee"
      ]
     },
     "execution_count": 2,
     "metadata": {},
     "output_type": "execute_result"
    }
   ],
   "source": [
    "officials_file = \"Resources/game_officials.csv\"\n",
    "officials_df = pd.read_csv(officials_file)\n",
    "officials_df.head()"
   ]
  },
  {
   "cell_type": "code",
   "execution_count": 3,
   "metadata": {},
   "outputs": [
    {
     "data": {
      "text/html": [
       "<div>\n",
       "<style scoped>\n",
       "    .dataframe tbody tr th:only-of-type {\n",
       "        vertical-align: middle;\n",
       "    }\n",
       "\n",
       "    .dataframe tbody tr th {\n",
       "        vertical-align: top;\n",
       "    }\n",
       "\n",
       "    .dataframe thead th {\n",
       "        text-align: right;\n",
       "    }\n",
       "</style>\n",
       "<table border=\"1\" class=\"dataframe\">\n",
       "  <thead>\n",
       "    <tr style=\"text-align: right;\">\n",
       "      <th></th>\n",
       "      <th>official_name</th>\n",
       "      <th>official_type</th>\n",
       "    </tr>\n",
       "    <tr>\n",
       "      <th>game_id</th>\n",
       "      <th></th>\n",
       "      <th></th>\n",
       "    </tr>\n",
       "  </thead>\n",
       "  <tbody>\n",
       "    <tr>\n",
       "      <th>2016020045</th>\n",
       "      <td>Dan O'Rourke</td>\n",
       "      <td>Referee</td>\n",
       "    </tr>\n",
       "    <tr>\n",
       "      <th>2016020045</th>\n",
       "      <td>Trevor Hanson</td>\n",
       "      <td>Referee</td>\n",
       "    </tr>\n",
       "    <tr>\n",
       "      <th>2016020045</th>\n",
       "      <td>Scott Driscoll</td>\n",
       "      <td>Linesman</td>\n",
       "    </tr>\n",
       "    <tr>\n",
       "      <th>2016020045</th>\n",
       "      <td>Lonnie Cameron</td>\n",
       "      <td>Linesman</td>\n",
       "    </tr>\n",
       "    <tr>\n",
       "      <th>2017020812</th>\n",
       "      <td>Justin St. Pierre</td>\n",
       "      <td>Referee</td>\n",
       "    </tr>\n",
       "    <tr>\n",
       "      <th>...</th>\n",
       "      <td>...</td>\n",
       "      <td>...</td>\n",
       "    </tr>\n",
       "    <tr>\n",
       "      <th>2018030417</th>\n",
       "      <td>Kelly Sutherland</td>\n",
       "      <td>Referee</td>\n",
       "    </tr>\n",
       "    <tr>\n",
       "      <th>2018030417</th>\n",
       "      <td>Gord Dwyer</td>\n",
       "      <td>Referee</td>\n",
       "    </tr>\n",
       "    <tr>\n",
       "      <th>2018030417</th>\n",
       "      <td>Scott Cherrey</td>\n",
       "      <td>Linesman</td>\n",
       "    </tr>\n",
       "    <tr>\n",
       "      <th>2018030417</th>\n",
       "      <td>Pierre Racicot</td>\n",
       "      <td>Linesman</td>\n",
       "    </tr>\n",
       "    <tr>\n",
       "      <th>2018030417</th>\n",
       "      <td>Derek Amell</td>\n",
       "      <td>Linesman</td>\n",
       "    </tr>\n",
       "  </tbody>\n",
       "</table>\n",
       "<p>105853 rows × 2 columns</p>\n",
       "</div>"
      ],
      "text/plain": [
       "                 official_name official_type\n",
       "game_id                                     \n",
       "2016020045        Dan O'Rourke       Referee\n",
       "2016020045       Trevor Hanson       Referee\n",
       "2016020045      Scott Driscoll      Linesman\n",
       "2016020045      Lonnie Cameron      Linesman\n",
       "2017020812  Justin St. Pierre        Referee\n",
       "...                        ...           ...\n",
       "2018030417    Kelly Sutherland       Referee\n",
       "2018030417          Gord Dwyer       Referee\n",
       "2018030417       Scott Cherrey      Linesman\n",
       "2018030417      Pierre Racicot      Linesman\n",
       "2018030417         Derek Amell      Linesman\n",
       "\n",
       "[105853 rows x 2 columns]"
      ]
     },
     "execution_count": 3,
     "metadata": {},
     "output_type": "execute_result"
    }
   ],
   "source": [
    "officials_df.set_index('game_id', inplace = True)\n",
    "officials_df"
   ]
  },
  {
   "cell_type": "code",
   "execution_count": 4,
   "metadata": {},
   "outputs": [
    {
     "data": {
      "text/plain": [
       "official_name    object\n",
       "official_type    object\n",
       "dtype: object"
      ]
     },
     "execution_count": 4,
     "metadata": {},
     "output_type": "execute_result"
    }
   ],
   "source": [
    "officials_df.dtypes"
   ]
  },
  {
   "cell_type": "code",
   "execution_count": 5,
   "metadata": {},
   "outputs": [
    {
     "data": {
      "text/html": [
       "<div>\n",
       "<style scoped>\n",
       "    .dataframe tbody tr th:only-of-type {\n",
       "        vertical-align: middle;\n",
       "    }\n",
       "\n",
       "    .dataframe tbody tr th {\n",
       "        vertical-align: top;\n",
       "    }\n",
       "\n",
       "    .dataframe thead th {\n",
       "        text-align: right;\n",
       "    }\n",
       "</style>\n",
       "<table border=\"1\" class=\"dataframe\">\n",
       "  <thead>\n",
       "    <tr style=\"text-align: right;\">\n",
       "      <th></th>\n",
       "      <th>game_id</th>\n",
       "      <th>player_id</th>\n",
       "      <th>period</th>\n",
       "      <th>shift_start</th>\n",
       "      <th>shift_end</th>\n",
       "    </tr>\n",
       "  </thead>\n",
       "  <tbody>\n",
       "    <tr>\n",
       "      <th>0</th>\n",
       "      <td>2018020001</td>\n",
       "      <td>8466139</td>\n",
       "      <td>1</td>\n",
       "      <td>0</td>\n",
       "      <td>42.0</td>\n",
       "    </tr>\n",
       "    <tr>\n",
       "      <th>1</th>\n",
       "      <td>2018020001</td>\n",
       "      <td>8466139</td>\n",
       "      <td>1</td>\n",
       "      <td>207</td>\n",
       "      <td>247.0</td>\n",
       "    </tr>\n",
       "    <tr>\n",
       "      <th>2</th>\n",
       "      <td>2018020001</td>\n",
       "      <td>8466139</td>\n",
       "      <td>1</td>\n",
       "      <td>375</td>\n",
       "      <td>413.0</td>\n",
       "    </tr>\n",
       "    <tr>\n",
       "      <th>3</th>\n",
       "      <td>2018020001</td>\n",
       "      <td>8466139</td>\n",
       "      <td>1</td>\n",
       "      <td>556</td>\n",
       "      <td>574.0</td>\n",
       "    </tr>\n",
       "    <tr>\n",
       "      <th>4</th>\n",
       "      <td>2018020001</td>\n",
       "      <td>8466139</td>\n",
       "      <td>1</td>\n",
       "      <td>605</td>\n",
       "      <td>631.0</td>\n",
       "    </tr>\n",
       "  </tbody>\n",
       "</table>\n",
       "</div>"
      ],
      "text/plain": [
       "      game_id  player_id  period  shift_start  shift_end\n",
       "0  2018020001    8466139       1            0       42.0\n",
       "1  2018020001    8466139       1          207      247.0\n",
       "2  2018020001    8466139       1          375      413.0\n",
       "3  2018020001    8466139       1          556      574.0\n",
       "4  2018020001    8466139       1          605      631.0"
      ]
     },
     "execution_count": 5,
     "metadata": {},
     "output_type": "execute_result"
    }
   ],
   "source": [
    "shifts_file = \"Resources/game_shifts.csv\"\n",
    "shifts_df = pd.read_csv(shifts_file)\n",
    "shifts_df.head()"
   ]
  },
  {
   "cell_type": "code",
   "execution_count": 6,
   "metadata": {},
   "outputs": [
    {
     "data": {
      "text/html": [
       "<div>\n",
       "<style scoped>\n",
       "    .dataframe tbody tr th:only-of-type {\n",
       "        vertical-align: middle;\n",
       "    }\n",
       "\n",
       "    .dataframe tbody tr th {\n",
       "        vertical-align: top;\n",
       "    }\n",
       "\n",
       "    .dataframe thead th {\n",
       "        text-align: right;\n",
       "    }\n",
       "</style>\n",
       "<table border=\"1\" class=\"dataframe\">\n",
       "  <thead>\n",
       "    <tr style=\"text-align: right;\">\n",
       "      <th></th>\n",
       "      <th>game_id</th>\n",
       "      <th>player_id</th>\n",
       "      <th>game_period</th>\n",
       "      <th>shift_start</th>\n",
       "      <th>shift_end</th>\n",
       "    </tr>\n",
       "  </thead>\n",
       "  <tbody>\n",
       "    <tr>\n",
       "      <th>0</th>\n",
       "      <td>2018020001</td>\n",
       "      <td>8466139</td>\n",
       "      <td>1</td>\n",
       "      <td>0</td>\n",
       "      <td>42.0</td>\n",
       "    </tr>\n",
       "    <tr>\n",
       "      <th>1</th>\n",
       "      <td>2018020001</td>\n",
       "      <td>8466139</td>\n",
       "      <td>1</td>\n",
       "      <td>207</td>\n",
       "      <td>247.0</td>\n",
       "    </tr>\n",
       "    <tr>\n",
       "      <th>2</th>\n",
       "      <td>2018020001</td>\n",
       "      <td>8466139</td>\n",
       "      <td>1</td>\n",
       "      <td>375</td>\n",
       "      <td>413.0</td>\n",
       "    </tr>\n",
       "    <tr>\n",
       "      <th>3</th>\n",
       "      <td>2018020001</td>\n",
       "      <td>8466139</td>\n",
       "      <td>1</td>\n",
       "      <td>556</td>\n",
       "      <td>574.0</td>\n",
       "    </tr>\n",
       "    <tr>\n",
       "      <th>4</th>\n",
       "      <td>2018020001</td>\n",
       "      <td>8466139</td>\n",
       "      <td>1</td>\n",
       "      <td>605</td>\n",
       "      <td>631.0</td>\n",
       "    </tr>\n",
       "  </tbody>\n",
       "</table>\n",
       "</div>"
      ],
      "text/plain": [
       "      game_id  player_id  game_period  shift_start  shift_end\n",
       "0  2018020001    8466139            1            0       42.0\n",
       "1  2018020001    8466139            1          207      247.0\n",
       "2  2018020001    8466139            1          375      413.0\n",
       "3  2018020001    8466139            1          556      574.0\n",
       "4  2018020001    8466139            1          605      631.0"
      ]
     },
     "execution_count": 6,
     "metadata": {},
     "output_type": "execute_result"
    }
   ],
   "source": [
    "# renamed 'period' column as it's a key word in SQL\n",
    "shifts_df = shifts_df.rename(columns = {'period' : 'game_period'})\n",
    "shifts_df.head()"
   ]
  },
  {
   "cell_type": "code",
   "execution_count": 7,
   "metadata": {},
   "outputs": [
    {
     "data": {
      "text/html": [
       "<div>\n",
       "<style scoped>\n",
       "    .dataframe tbody tr th:only-of-type {\n",
       "        vertical-align: middle;\n",
       "    }\n",
       "\n",
       "    .dataframe tbody tr th {\n",
       "        vertical-align: top;\n",
       "    }\n",
       "\n",
       "    .dataframe thead th {\n",
       "        text-align: right;\n",
       "    }\n",
       "</style>\n",
       "<table border=\"1\" class=\"dataframe\">\n",
       "  <thead>\n",
       "    <tr style=\"text-align: right;\">\n",
       "      <th></th>\n",
       "      <th>game_id</th>\n",
       "      <th>player_id</th>\n",
       "      <th>game_period</th>\n",
       "      <th>shift_start</th>\n",
       "      <th>shift_end</th>\n",
       "    </tr>\n",
       "  </thead>\n",
       "  <tbody>\n",
       "    <tr>\n",
       "      <th>0</th>\n",
       "      <td>2018020001</td>\n",
       "      <td>8466139</td>\n",
       "      <td>1</td>\n",
       "      <td>0</td>\n",
       "      <td>42.0</td>\n",
       "    </tr>\n",
       "    <tr>\n",
       "      <th>1</th>\n",
       "      <td>2018020001</td>\n",
       "      <td>8466139</td>\n",
       "      <td>1</td>\n",
       "      <td>207</td>\n",
       "      <td>247.0</td>\n",
       "    </tr>\n",
       "    <tr>\n",
       "      <th>2</th>\n",
       "      <td>2018020001</td>\n",
       "      <td>8466139</td>\n",
       "      <td>1</td>\n",
       "      <td>375</td>\n",
       "      <td>413.0</td>\n",
       "    </tr>\n",
       "    <tr>\n",
       "      <th>3</th>\n",
       "      <td>2018020001</td>\n",
       "      <td>8466139</td>\n",
       "      <td>1</td>\n",
       "      <td>556</td>\n",
       "      <td>574.0</td>\n",
       "    </tr>\n",
       "    <tr>\n",
       "      <th>4</th>\n",
       "      <td>2018020001</td>\n",
       "      <td>8466139</td>\n",
       "      <td>1</td>\n",
       "      <td>605</td>\n",
       "      <td>631.0</td>\n",
       "    </tr>\n",
       "  </tbody>\n",
       "</table>\n",
       "</div>"
      ],
      "text/plain": [
       "      game_id  player_id  game_period  shift_start  shift_end\n",
       "0  2018020001    8466139            1            0       42.0\n",
       "1  2018020001    8466139            1          207      247.0\n",
       "2  2018020001    8466139            1          375      413.0\n",
       "3  2018020001    8466139            1          556      574.0\n",
       "4  2018020001    8466139            1          605      631.0"
      ]
     },
     "execution_count": 7,
     "metadata": {},
     "output_type": "execute_result"
    }
   ],
   "source": [
    "shifts_df.head()"
   ]
  },
  {
   "cell_type": "code",
   "execution_count": 8,
   "metadata": {},
   "outputs": [
    {
     "data": {
      "text/plain": [
       "game_id          int64\n",
       "player_id        int64\n",
       "game_period      int64\n",
       "shift_start      int64\n",
       "shift_end      float64\n",
       "dtype: object"
      ]
     },
     "execution_count": 8,
     "metadata": {},
     "output_type": "execute_result"
    }
   ],
   "source": [
    "shifts_df.dtypes"
   ]
  },
  {
   "cell_type": "markdown",
   "metadata": {},
   "source": [
    "### Connect to local database"
   ]
  },
  {
   "cell_type": "code",
   "execution_count": 14,
   "metadata": {},
   "outputs": [
    {
     "ename": "NoSuchModuleError",
     "evalue": "Can't load plugin: sqlalchemy.dialects:postgresql",
     "output_type": "error",
     "traceback": [
      "\u001b[0;31m---------------------------------------------------------------------------\u001b[0m",
      "\u001b[0;31mNoSuchModuleError\u001b[0m                         Traceback (most recent call last)",
      "\u001b[0;32m<ipython-input-14-fe7ba64a3509>\u001b[0m in \u001b[0;36m<module>\u001b[0;34m\u001b[0m\n\u001b[1;32m      3\u001b[0m \u001b[0;34m\u001b[0m\u001b[0m\n\u001b[1;32m      4\u001b[0m \u001b[0mrds_connection_string\u001b[0m \u001b[0;34m=\u001b[0m \u001b[0;34m\"postgres:Wyatt@localhost:5432/hockey_db\"\u001b[0m\u001b[0;34m\u001b[0m\u001b[0;34m\u001b[0m\u001b[0m\n\u001b[0;32m----> 5\u001b[0;31m \u001b[0mengine\u001b[0m \u001b[0;34m=\u001b[0m \u001b[0mcreate_engine\u001b[0m\u001b[0;34m(\u001b[0m\u001b[0;34mf\"postgresql://{rds_connection_string}\"\u001b[0m\u001b[0;34m)\u001b[0m\u001b[0;34m\u001b[0m\u001b[0;34m\u001b[0m\u001b[0m\n\u001b[0m",
      "\u001b[0;32m~/opt/anaconda3/lib/python3.8/site-packages/sqlalchemy/engine/__init__.py\u001b[0m in \u001b[0;36mcreate_engine\u001b[0;34m(*args, **kwargs)\u001b[0m\n\u001b[1;32m    498\u001b[0m     \u001b[0mstrategy\u001b[0m \u001b[0;34m=\u001b[0m \u001b[0mkwargs\u001b[0m\u001b[0;34m.\u001b[0m\u001b[0mpop\u001b[0m\u001b[0;34m(\u001b[0m\u001b[0;34m\"strategy\"\u001b[0m\u001b[0;34m,\u001b[0m \u001b[0mdefault_strategy\u001b[0m\u001b[0;34m)\u001b[0m\u001b[0;34m\u001b[0m\u001b[0;34m\u001b[0m\u001b[0m\n\u001b[1;32m    499\u001b[0m     \u001b[0mstrategy\u001b[0m \u001b[0;34m=\u001b[0m \u001b[0mstrategies\u001b[0m\u001b[0;34m.\u001b[0m\u001b[0mstrategies\u001b[0m\u001b[0;34m[\u001b[0m\u001b[0mstrategy\u001b[0m\u001b[0;34m]\u001b[0m\u001b[0;34m\u001b[0m\u001b[0;34m\u001b[0m\u001b[0m\n\u001b[0;32m--> 500\u001b[0;31m     \u001b[0;32mreturn\u001b[0m \u001b[0mstrategy\u001b[0m\u001b[0;34m.\u001b[0m\u001b[0mcreate\u001b[0m\u001b[0;34m(\u001b[0m\u001b[0;34m*\u001b[0m\u001b[0margs\u001b[0m\u001b[0;34m,\u001b[0m \u001b[0;34m**\u001b[0m\u001b[0mkwargs\u001b[0m\u001b[0;34m)\u001b[0m\u001b[0;34m\u001b[0m\u001b[0;34m\u001b[0m\u001b[0m\n\u001b[0m\u001b[1;32m    501\u001b[0m \u001b[0;34m\u001b[0m\u001b[0m\n\u001b[1;32m    502\u001b[0m \u001b[0;34m\u001b[0m\u001b[0m\n",
      "\u001b[0;32m~/opt/anaconda3/lib/python3.8/site-packages/sqlalchemy/engine/strategies.py\u001b[0m in \u001b[0;36mcreate\u001b[0;34m(self, name_or_url, **kwargs)\u001b[0m\n\u001b[1;32m     59\u001b[0m         \u001b[0mkwargs\u001b[0m\u001b[0;34m.\u001b[0m\u001b[0mpop\u001b[0m\u001b[0;34m(\u001b[0m\u001b[0;34m\"plugins\"\u001b[0m\u001b[0;34m,\u001b[0m \u001b[0;32mNone\u001b[0m\u001b[0;34m)\u001b[0m\u001b[0;34m\u001b[0m\u001b[0;34m\u001b[0m\u001b[0m\n\u001b[1;32m     60\u001b[0m \u001b[0;34m\u001b[0m\u001b[0m\n\u001b[0;32m---> 61\u001b[0;31m         \u001b[0mentrypoint\u001b[0m \u001b[0;34m=\u001b[0m \u001b[0mu\u001b[0m\u001b[0;34m.\u001b[0m\u001b[0m_get_entrypoint\u001b[0m\u001b[0;34m(\u001b[0m\u001b[0;34m)\u001b[0m\u001b[0;34m\u001b[0m\u001b[0;34m\u001b[0m\u001b[0m\n\u001b[0m\u001b[1;32m     62\u001b[0m         \u001b[0mdialect_cls\u001b[0m \u001b[0;34m=\u001b[0m \u001b[0mentrypoint\u001b[0m\u001b[0;34m.\u001b[0m\u001b[0mget_dialect_cls\u001b[0m\u001b[0;34m(\u001b[0m\u001b[0mu\u001b[0m\u001b[0;34m)\u001b[0m\u001b[0;34m\u001b[0m\u001b[0;34m\u001b[0m\u001b[0m\n\u001b[1;32m     63\u001b[0m \u001b[0;34m\u001b[0m\u001b[0m\n",
      "\u001b[0;32m~/opt/anaconda3/lib/python3.8/site-packages/sqlalchemy/engine/url.py\u001b[0m in \u001b[0;36m_get_entrypoint\u001b[0;34m(self)\u001b[0m\n\u001b[1;32m    170\u001b[0m         \u001b[0;32melse\u001b[0m\u001b[0;34m:\u001b[0m\u001b[0;34m\u001b[0m\u001b[0;34m\u001b[0m\u001b[0m\n\u001b[1;32m    171\u001b[0m             \u001b[0mname\u001b[0m \u001b[0;34m=\u001b[0m \u001b[0mself\u001b[0m\u001b[0;34m.\u001b[0m\u001b[0mdrivername\u001b[0m\u001b[0;34m.\u001b[0m\u001b[0mreplace\u001b[0m\u001b[0;34m(\u001b[0m\u001b[0;34m\"+\"\u001b[0m\u001b[0;34m,\u001b[0m \u001b[0;34m\".\"\u001b[0m\u001b[0;34m)\u001b[0m\u001b[0;34m\u001b[0m\u001b[0;34m\u001b[0m\u001b[0m\n\u001b[0;32m--> 172\u001b[0;31m         \u001b[0mcls\u001b[0m \u001b[0;34m=\u001b[0m \u001b[0mregistry\u001b[0m\u001b[0;34m.\u001b[0m\u001b[0mload\u001b[0m\u001b[0;34m(\u001b[0m\u001b[0mname\u001b[0m\u001b[0;34m)\u001b[0m\u001b[0;34m\u001b[0m\u001b[0;34m\u001b[0m\u001b[0m\n\u001b[0m\u001b[1;32m    173\u001b[0m         \u001b[0;31m# check for legacy dialects that\u001b[0m\u001b[0;34m\u001b[0m\u001b[0;34m\u001b[0m\u001b[0;34m\u001b[0m\u001b[0m\n\u001b[1;32m    174\u001b[0m         \u001b[0;31m# would return a module with 'dialect' as the\u001b[0m\u001b[0;34m\u001b[0m\u001b[0;34m\u001b[0m\u001b[0;34m\u001b[0m\u001b[0m\n",
      "\u001b[0;32m~/opt/anaconda3/lib/python3.8/site-packages/sqlalchemy/util/langhelpers.py\u001b[0m in \u001b[0;36mload\u001b[0;34m(self, name)\u001b[0m\n\u001b[1;32m    266\u001b[0m                 \u001b[0;32mreturn\u001b[0m \u001b[0mimpl\u001b[0m\u001b[0;34m.\u001b[0m\u001b[0mload\u001b[0m\u001b[0;34m(\u001b[0m\u001b[0;34m)\u001b[0m\u001b[0;34m\u001b[0m\u001b[0;34m\u001b[0m\u001b[0m\n\u001b[1;32m    267\u001b[0m \u001b[0;34m\u001b[0m\u001b[0m\n\u001b[0;32m--> 268\u001b[0;31m         raise exc.NoSuchModuleError(\n\u001b[0m\u001b[1;32m    269\u001b[0m             \u001b[0;34m\"Can't load plugin: %s:%s\"\u001b[0m \u001b[0;34m%\u001b[0m \u001b[0;34m(\u001b[0m\u001b[0mself\u001b[0m\u001b[0;34m.\u001b[0m\u001b[0mgroup\u001b[0m\u001b[0;34m,\u001b[0m \u001b[0mname\u001b[0m\u001b[0;34m)\u001b[0m\u001b[0;34m\u001b[0m\u001b[0;34m\u001b[0m\u001b[0m\n\u001b[1;32m    270\u001b[0m         )\n",
      "\u001b[0;31mNoSuchModuleError\u001b[0m: Can't load plugin: sqlalchemy.dialects:postgresql"
     ]
    }
   ],
   "source": [
    "# rds_connection_string = \"<insert user name>:<insert password>@localhost:5432/customer_db\"\n",
    "# engine = create_engine(f'postgresql://{rds_connection_string}')\n",
    "\n",
    "rds_connection_string = \"postgres:Wyatt@localhost:5432/hockey_db\"\n",
    "engine = create_engine(f\"postgresql://{rds_connection_string}\")"
   ]
  },
  {
   "cell_type": "code",
   "execution_count": null,
   "metadata": {},
   "outputs": [],
   "source": []
  },
  {
   "cell_type": "markdown",
   "metadata": {},
   "source": [
    "### Check for tables"
   ]
  },
  {
   "cell_type": "code",
   "execution_count": null,
   "metadata": {},
   "outputs": [],
   "source": [
    "# engine.table_names()"
   ]
  },
  {
   "cell_type": "markdown",
   "metadata": {},
   "source": [
    "### Use pandas to load csv converted DataFrame into database"
   ]
  },
  {
   "cell_type": "code",
   "execution_count": null,
   "metadata": {},
   "outputs": [],
   "source": [
    "# new_df.to_sql(name='customer_location', con=engine, if_exists='append', index=False)"
   ]
  },
  {
   "cell_type": "markdown",
   "metadata": {},
   "source": [
    "### Confirm data has been added by querying the table\n",
    "* NOTE: can also check using pgAdmin"
   ]
  },
  {
   "cell_type": "code",
   "execution_count": null,
   "metadata": {},
   "outputs": [],
   "source": [
    "# pd.read_sql_query('select * from customer_name', con=engine).head()"
   ]
  }
 ],
 "metadata": {
  "kernelspec": {
   "display_name": "Python 3",
   "language": "python",
   "name": "python3"
  },
  "language_info": {
   "codemirror_mode": {
    "name": "ipython",
    "version": 3
   },
   "file_extension": ".py",
   "mimetype": "text/x-python",
   "name": "python",
   "nbconvert_exporter": "python",
   "pygments_lexer": "ipython3",
   "version": "3.8.5"
  }
 },
 "nbformat": 4,
 "nbformat_minor": 4
}
